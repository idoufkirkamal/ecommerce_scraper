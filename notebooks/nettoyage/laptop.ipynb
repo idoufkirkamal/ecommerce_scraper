{
 "cells": [
  {
   "cell_type": "code",
   "execution_count": null,
   "id": "initial_id",
   "metadata": {
    "collapsed": true
   },
   "outputs": [],
   "source": [
    ""
   ]
  },
  {
   "metadata": {},
   "cell_type": "markdown",
   "source": [
    "# Nettoyage des Données eBay - Laptops\n",
    "\n",
    "Ce notebook a pour objectif de charger, nettoyer et transformer les données issues de fichiers CSV contenant des informations sur des laptops vendus sur eBay.\n",
    "Les principales opérations effectuées sont :\n",
    "\n",
    "- **Nettoyage de la colonne `Price`** : suppression des caractères inutiles et conversion en type numérique.\n",
    "- **Uniformisation des unités** pour les colonnes telles que `RAM` et `Storage` (conversion en GB).\n",
    "- **Extraction et conversion** des valeurs de la colonne `Screen Size`.\n",
    "- **Imputation des valeurs manquantes** selon des règles définies.\n",
    "- **Nettoyage des titres** pour retirer les informations non essentielles.\n",
    "- **Suppression des doublons** en ne conservant que l’enregistrement avec le prix minimum pour chaque produit unique.\n",
    "\n",
    "Chaque fonction utilisée est expliquée en détail dans la suite du notebook.\n"
   ],
   "id": "7973af4ff7f1f7ed"
  },
  {
   "metadata": {},
   "cell_type": "code",
   "outputs": [],
   "execution_count": null,
   "source": [
    "# Importation des bibliothèques nécessaires\n",
    "import os\n",
    "import pandas as pd\n",
    "import numpy as np\n",
    "import re\n",
    "from pathlib import Path\n",
    "\n",
    "# Définir le répertoire de base : ici nous utilisons le répertoire de travail actuel\n",
    "BASE_DIR = Path.cwd()  # ou adaptez ce chemin en fonction de votre arborescence\n",
    "\n",
    "# Définir les répertoires pour les données brutes et les données nettoyées\n",
    "RAW_DATA_DIR = BASE_DIR / 'data' / 'raw' / 'ebay' / 'laptops'\n",
    "CLEANED_DATA_DIR = BASE_DIR / 'data' / 'cleaned' / 'ebay' / 'laptops'\n",
    "\n",
    "# Créer le répertoire de données nettoyées s'il n'existe pas\n",
    "CLEANED_DATA_DIR.mkdir(parents=True, exist_ok=True)\n",
    "\n",
    "# Afficher les chemins pour vérification\n",
    "print(f\"Base directory: {BASE_DIR}\")\n",
    "print(f\"Raw data directory: {RAW_DATA_DIR}\")\n",
    "print(f\"Cleaned data directory: {CLEANED_DATA_DIR}\")\n",
    "\n",
    "# Vérifier que le répertoire des données brutes existe\n",
    "if not RAW_DATA_DIR.exists():\n",
    "    raise FileNotFoundError(f\"Le répertoire des données brutes est introuvable : {RAW_DATA_DIR}\")\n",
    "\n",
    "# Vérifier la présence de fichiers CSV dans le répertoire raw\n",
    "files = list(RAW_DATA_DIR.glob('*.csv'))\n",
    "if not files:\n",
    "    print(f\"Aucun fichier CSV trouvé dans {RAW_DATA_DIR}\")\n",
    "else:\n",
    "    print(f\"{len(files)} fichier(s) CSV trouvé(s) dans {RAW_DATA_DIR}\")\n"
   ],
   "id": "138745c7f1fdbdbb"
  },
  {
   "metadata": {},
   "cell_type": "code",
   "outputs": [],
   "execution_count": null,
   "source": "",
   "id": "346308cc643339e0"
  },
  {
   "metadata": {},
   "cell_type": "markdown",
   "source": [
    "### Fonction : `clean_price`\n",
    "\n",
    "Cette fonction prend une valeur de la colonne `Price` (souvent une chaîne de caractères contenant des symboles ou des séparateurs) et :\n",
    "\n",
    "- Supprime les caractères non numériques (en gardant le point et la virgule).\n",
    "- Remplace la virgule par un point et supprime les espaces.\n",
    "- Gère les cas où il y a plusieurs points en ne conservant qu’un seul point décimal.\n",
    "- Convertit finalement la chaîne nettoyée en nombre flottant (`float`) ou retourne `np.nan` si la chaîne est vide.\n"
   ],
   "id": "b05ea291d84e2471"
  },
  {
   "metadata": {},
   "cell_type": "code",
   "outputs": [],
   "execution_count": null,
   "source": [
    "def clean_price(price):\n",
    "\n",
    "    if isinstance(price, str):\n",
    "        # Conserver uniquement les chiffres, le point et la virgule\n",
    "        cleaned = ''.join(c for c in price if c.isdigit() or c in {'.', ','})\n",
    "        # Remplacer la virgule par un point et supprimer les espaces éventuels\n",
    "        cleaned = cleaned.replace(',', '.').replace(' ', '')\n",
    "        # Gérer le cas de plusieurs points en ne gardant qu’un seul point décimal\n",
    "        if '.' in cleaned:\n",
    "            parts = cleaned.split('.')\n",
    "            if len(parts) > 2:\n",
    "                cleaned = parts[0] + '.' + ''.join(parts[1:])\n",
    "        return float(cleaned) if cleaned else np.nan\n",
    "    return price\n"
   ],
   "id": "56a1f61620b530b5"
  },
  {
   "metadata": {},
   "cell_type": "markdown",
   "source": [
    "### Fonction : `convert_to_gb`\n",
    "\n",
    "Cette fonction convertit les valeurs de mémoire (RAM ou Storage) en Gigaoctets (GB).\n",
    "Elle accepte une chaîne de caractères contenant un nombre suivi d’une unité (par exemple, \"8GB\", \"1.5 TB\" ou \"512 MB\") et :\n",
    "\n",
    "- Extrait la valeur numérique et l’unité.\n",
    "- Convertit l’unité en GB (1 TB = 1000 GB, 1 MB = 1/1000 GB).\n",
    "- Retourne `np.nan` si la valeur est manquante ou invalide.\n"
   ],
   "id": "89098fdea965625a"
  },
  {
   "metadata": {},
   "cell_type": "code",
   "outputs": [],
   "execution_count": null,
   "source": [
    "def convert_to_gb(value):\n",
    "    if pd.isna(value) or value in ['N/A', '', ' ']:\n",
    "        return np.nan\n",
    "    match = re.match(r'(\\d+\\.?\\d*)\\s*([GTM]B?|GB)', str(value), re.IGNORECASE)\n",
    "    if match:\n",
    "        num, unit = match.groups()\n",
    "        num = float(num)\n",
    "        unit = unit.upper()\n",
    "        if 'T' in unit:\n",
    "            return num * 1000\n",
    "        elif 'M' in unit:\n",
    "            return num / 1000\n",
    "        return num\n",
    "    return np.nan\n"
   ],
   "id": "6b780abf838b3e49"
  },
  {
   "metadata": {},
   "cell_type": "markdown",
   "source": [
    "### Fonction : `impute_missing_values`\n",
    "\n",
    "Pour certaines colonnes critiques (comme `RAM`, `Storage`, `Screen Size`, `CPU` et `Price`), il est important de gérer les valeurs manquantes.\n",
    "Cette fonction applique différentes stratégies d’imputation :\n",
    "\n",
    "- **Médiane** : pour `RAM`, `Storage`, `Screen Size` et `Price`.\n",
    "- **Forward Fill (ffill)** : pour `CPU`.\n",
    "\n",
    "Elle retourne le DataFrame avec les valeurs manquantes imputées.\n"
   ],
   "id": "f4971b274b26b949"
  },
  {
   "metadata": {},
   "cell_type": "code",
   "outputs": [],
   "execution_count": null,
   "source": [
    "def impute_missing_values(df):\n",
    "\n",
    "    imputation_rules = {\n",
    "        'RAM': 'median',\n",
    "        'Storage': 'median',\n",
    "        'Screen Size': 'median',\n",
    "        'CPU': 'ffill',\n",
    "        'Price': 'median'\n",
    "    }\n",
    "\n",
    "    for col, method in imputation_rules.items():\n",
    "        if col in df.columns:\n",
    "            if method == 'median':\n",
    "                df[col] = df[col].fillna(df[col].median())\n",
    "            elif method == 'ffill':\n",
    "                df[col] = df[col].ffill()\n",
    "    return df\n"
   ],
   "id": "ae2593166f1a8d05"
  },
  {
   "metadata": {},
   "cell_type": "markdown",
   "source": [
    "### Fonction : `clean_title`\n",
    "\n",
    "Les titres des annonces peuvent contenir de nombreux termes et symboles superflus (spécifications techniques répétitives, mentions inutiles, etc.).\n",
    "Cette fonction utilise une expression régulière pour supprimer ces mots-clés et nettoyer le titre afin de le rendre plus lisible.\n"
   ],
   "id": "e2eb859ff5eddc6e"
  },
  {
   "metadata": {},
   "cell_type": "code",
   "outputs": [],
   "execution_count": null,
   "source": [
    "def clean_title(title):\n",
    "\n",
    "    return re.sub(\n",
    "        r'(?i)\\b(8GB|. |PC|Notebook|Ryzen|UHD|Graphics|DDR4|AMD|W11|Win11|Win|11|Cond|!!|LOADED|TouchBar|Mac OS|Black| i3StorageWin|Gaming|Laptop|Touchscreen|Pro|15.6|Windows|RTX|FHD|LaptopWin11|HDD| ,|French|13inch|'\n",
    "        r' - | /|macOS|VENTURA|FREE|SHIPPIN|i9|13.3|inches|TURBO|\"|- | , |13INCH|EXCELLENT|'\n",
    "        r'REFURBISHED|NEW|MWTK2LL|Qwerty|Spanish|Keyboard|British|\\d+GB|\\d+TB|[\\d\\.]+ ?GHz| GB |'\n",
    "        r'rouge|Gray|BIG SUR|WEBCAM|WIFI|BLUETOOTHGB|TB|space gray|silver|gold|touch bar|GHz|'\n",
    "        r'Intel|Core|i7|th|Gen|GB|Very|RAM|i5| GB| TB|GB GB|.GHZ| CPU | GPU|-|SSD|256|512|Good|'\n",
    "        r'Condition|magic keyboard|✅|🔋|grade [A-B]|warranty\\.\\.\\.)',\n",
    "        '',\n",
    "        str(title)\n",
    "    ).strip().replace('  ', ' ')\n"
   ],
   "id": "d7e85a836abef672"
  },
  {
   "metadata": {},
   "cell_type": "markdown",
   "source": [
    "### Fonction : `remove_duplicates_keep_min_price`\n",
    "\n",
    "Pour éviter la redondance, cette fonction supprime les doublons en se basant sur certaines colonnes clés (`Model`, `RAM`, `CPU`, `Brand`, `Storage`).\n",
    "Avant la déduplication, la colonne `Price` est convertie en numérique.\n",
    "Le DataFrame est trié par prix croissant et, pour chaque groupe de produits identiques, seule la ligne avec le prix minimum est conservée.\n"
   ],
   "id": "f9a5738ffb02f198"
  },
  {
   "metadata": {},
   "cell_type": "code",
   "outputs": [],
   "execution_count": null,
   "source": [
    "def remove_duplicates_keep_min_price(df):\n",
    "\n",
    "    # S'assurer que la colonne Price est numérique\n",
    "    df['Price'] = pd.to_numeric(df['Price'], errors='coerce')\n",
    "    # Définir les colonnes clés pour l'unicité du produit\n",
    "    key_columns = ['Model', 'RAM', 'CPU', 'Brand', 'Storage']\n",
    "    # Trier par prix croissant\n",
    "    df = df.sort_values(by='Price', ascending=True)\n",
    "    # Supprimer les doublons en gardant la première occurrence (celle avec le prix minimum)\n",
    "    df_cleaned = df.drop_duplicates(subset=key_columns, keep='first')\n",
    "    return df_cleaned\n"
   ],
   "id": "94198063b5e0d0d8"
  },
  {
   "metadata": {},
   "cell_type": "markdown",
   "source": [
    "### Traitement et Nettoyage des Fichiers CSV\n",
    "\n",
    "Dans cette section, nous parcourons tous les fichiers CSV présents dans le répertoire `RAW_DATA_DIR`.\n",
    "Pour chaque fichier :\n",
    "\n",
    "1. Le fichier est chargé dans un DataFrame.\n",
    "2. Les fonctions de nettoyage et de transformation sont appliquées :\n",
    "   - Nettoyage de la colonne `Price`\n",
    "   - Conversion des colonnes `RAM` et `Storage` en GB\n",
    "   - Extraction du nombre dans `Screen Size`\n",
    "   - Imputation des valeurs manquantes\n",
    "   - Remplacement de valeurs manquantes dans la colonne `GPU` par `\"Unknown Graphics\"`\n",
    "   - Nettoyage de la colonne `Title`\n",
    "   - Remplacement des valeurs vides dans `Model` par celles de `Title`\n",
    "   - Arrondi de la colonne `Storage`\n",
    "   - Filtrage des enregistrements avec un prix inférieur à 90\n",
    "   - Suppression des doublons en gardant le prix minimum\n",
    "\n",
    "3. Le DataFrame nettoyé est sauvegardé dans le répertoire `CLEANED_DATA_DIR`.\n"
   ],
   "id": "3331b76dfea3e96b"
  },
  {
   "metadata": {},
   "cell_type": "code",
   "outputs": [],
   "execution_count": null,
   "source": [
    "try:\n",
    "    # Parcourir tous les fichiers CSV dans le dossier des données brutes\n",
    "    for file in RAW_DATA_DIR.glob('*.csv'):\n",
    "        print(f\"Traitement du fichier : {file.name}\")\n",
    "\n",
    "        # Charger le fichier CSV dans un DataFrame\n",
    "        df = pd.read_csv(file)\n",
    "        print(f\"{len(df)} lignes chargées depuis {file.name}\")\n",
    "        print(f\"Colonnes disponibles : {df.columns.tolist()}\")  # Pour le débogage\n",
    "\n",
    "        # Nettoyer la colonne Price\n",
    "        df['Price'] = df['Price'].apply(clean_price)\n",
    "\n",
    "        # Convertir les colonnes RAM et Storage en GB\n",
    "        for col in ['RAM', 'Storage']:\n",
    "            if col in df.columns:\n",
    "                df[col] = df[col].apply(convert_to_gb).astype(float)\n",
    "\n",
    "        # Extraire le nombre de la colonne Screen Size (si présente)\n",
    "        if 'Screen Size' in df.columns:\n",
    "            df['Screen Size'] = df['Screen Size'].str.extract(r'(\\d+\\.?\\d*)')[0].astype(float)\n",
    "\n",
    "        # Imputer les valeurs manquantes\n",
    "        df = impute_missing_values(df)\n",
    "\n",
    "        # Remplacer les valeurs manquantes dans GPU par 'Unknown Graphics'\n",
    "        if 'GPU' in df.columns:\n",
    "            df['GPU'] = df['GPU'].fillna('Unknown Graphics')\n",
    "\n",
    "        # Nettoyer la colonne Title\n",
    "        if 'Title' in df.columns:\n",
    "            df['Title'] = df['Title'].apply(clean_title)\n",
    "\n",
    "        # Pour la colonne Model, remplacer les valeurs vides par NaN puis les combler avec Title\n",
    "        if 'Model' in df.columns and 'Title' in df.columns:\n",
    "            df['Model'] = df['Model'].replace('', np.nan)\n",
    "            df['Model'] = df['Model'].fillna(df['Title'])\n",
    "\n",
    "        # Arrondir Storage\n",
    "        if 'Storage' in df.columns:\n",
    "            df['Storage'] = df['Storage'].round(2)\n",
    "\n",
    "        # Filtrer les lignes avec un prix inférieur à 90\n",
    "        df = df[df['Price'] >= 90]\n",
    "\n",
    "        # Supprimer les doublons en conservant le prix minimum\n",
    "        df = remove_duplicates_keep_min_price(df)\n",
    "\n",
    "        # Sauvegarder le DataFrame nettoyé dans un nouveau fichier CSV\n",
    "        output_filename = CLEANED_DATA_DIR / f\"{file.stem}_cleaned.csv\"\n",
    "        df.to_csv(output_filename, index=False)\n",
    "        print(f\"Fichier nettoyé sauvegardé dans : {output_filename}\")\n",
    "        print(f\"Forme finale du DataFrame : {df.shape}\\n\")\n",
    "except Exception as e:\n",
    "    print(f\"Une erreur est survenue : {e}\")\n"
   ],
   "id": "1f8cad2e8386a69e"
  },
  {
   "metadata": {},
   "cell_type": "markdown",
   "source": [
    "# Conclusion\n",
    "\n",
    "Nous avons parcouru l’ensemble des fichiers CSV présents dans le répertoire des données brutes, appliqué plusieurs opérations de nettoyage et de transformation, puis sauvegardé les fichiers nettoyés dans un nouveau répertoire.\n",
    "Les fonctions définies ont permis de :\n",
    "\n",
    "- Nettoyer et convertir les formats de données (prix, RAM, stockage, taille de l’écran).\n",
    "- Gérer les valeurs manquantes.\n",
    "- Nettoyer les titres et uniformiser les informations.\n",
    "- Supprimer les doublons en conservant les enregistrements présentant le meilleur rapport qualité/prix.\n",
    "\n",
    ".\n"
   ],
   "id": "aa8b46d29f0f971a"
  },
  {
   "metadata": {},
   "cell_type": "code",
   "outputs": [],
   "execution_count": null,
   "source": "",
   "id": "10bf1e2f7b6bb7e4"
  }
 ],
 "metadata": {
  "kernelspec": {
   "display_name": "Python 3",
   "language": "python",
   "name": "python3"
  },
  "language_info": {
   "codemirror_mode": {
    "name": "ipython",
    "version": 2
   },
   "file_extension": ".py",
   "mimetype": "text/x-python",
   "name": "python",
   "nbconvert_exporter": "python",
   "pygments_lexer": "ipython2",
   "version": "2.7.6"
  }
 },
 "nbformat": 4,
 "nbformat_minor": 5
}
